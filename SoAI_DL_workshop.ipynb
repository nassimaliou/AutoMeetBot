{
  "nbformat": 4,
  "nbformat_minor": 0,
  "metadata": {
    "colab": {
      "name": "SoAI_DL_workshop.ipynb",
      "provenance": [],
      "collapsed_sections": [],
      "authorship_tag": "ABX9TyNlUZ1S1OIfD9rU9GGBRTtD",
      "include_colab_link": true
    },
    "kernelspec": {
      "name": "python3",
      "display_name": "Python 3"
    },
    "language_info": {
      "name": "python"
    }
  },
  "cells": [
    {
      "cell_type": "markdown",
      "metadata": {
        "id": "view-in-github",
        "colab_type": "text"
      },
      "source": [
        "<a href=\"https://colab.research.google.com/github/nassimaliou/AutoMeetBot/blob/master/SoAI_DL_workshop.ipynb\" target=\"_parent\"><img src=\"https://colab.research.google.com/assets/colab-badge.svg\" alt=\"Open In Colab\"/></a>"
      ]
    },
    {
      "cell_type": "markdown",
      "source": [
        "# Deep Neural Network for Image Classification (multi-class classification)"
      ],
      "metadata": {
        "id": "dDqP0d0iF0Yk"
      }
    },
    {
      "cell_type": "markdown",
      "source": [
        "**1 - Packages**\n",
        "\n",
        "first import all the packages that you will need in this note book:\n",
        "\n",
        "1.   [Matplotlib](https://matplotlib.org/) is a library to plot graphs in Python.\n",
        "2.  [ keras.models](https://keras.io/) and [keras.layers](https://keras.io/), from the Keras library, they provide Python interfaces for artificial neural networks.\n",
        "3. [numpy](https://www.numpy.org/) is the fundamental package for scientific computing with Python.\n",
        "\n"
      ],
      "metadata": {
        "id": "rviNR-CSE1ZW"
      }
    },
    {
      "cell_type": "code",
      "execution_count": 1,
      "metadata": {
        "id": "yb0fGZOEnJ6P"
      },
      "outputs": [],
      "source": [
        "\"\"\"\n",
        "  import matplotlib.pyplot as plt, and numpy as np, to do so use the syntax \"import <LibName> as <lb>\"\n",
        "\"\"\"\n",
        "\n",
        "## Your code goes here (~2 lines of code)\n",
        "import matplotlib.pyplot as plt\n",
        "import numpy as np\n",
        "##\n",
        "\n",
        "\n",
        "\"\"\"\n",
        "  import Sequential and Flatten, Dense from keras.models and keras.layers, to do so use the syntax \"from <libname> import <module>\"\n",
        "\"\"\"\n",
        "## Your code goes here (~2 lines of code)\n",
        "from keras.models import Sequential\n",
        "from keras.layers import Flatten, Dense\n",
        "##\n",
        "\n",
        "\"\"\"\n",
        "  Finaly, import tensorflow.keras.datasets\n",
        "\"\"\"\n",
        "## Your code goes here (~1 line of code)\n",
        "import tensorflow.keras.datasets\n",
        "##"
      ]
    },
    {
      "cell_type": "markdown",
      "source": [
        "**2 - Dataset**\n",
        "\n",
        "You will use the \"MNIST digits\" dataset, a dataset containing:\n",
        "\n",
        "- a training set of 60 000 images labelled from '0' to '9'\n",
        "- a test set of 10 000 images labelled\n",
        "- each image is of shape (28px, 28px)"
      ],
      "metadata": {
        "id": "yLi4_K7YJZcV"
      }
    },
    {
      "cell_type": "markdown",
      "source": [
        "Let's get more familiar with the dataset. Load the data by running the cell below."
      ],
      "metadata": {
        "id": "5zVphJx0K7MD"
      }
    },
    {
      "cell_type": "markdown",
      "source": [
        "                                  **MNIST digits classification dataset**\n",
        "\n",
        "                             Importing the MNIST digits dataset to your note book"
      ],
      "metadata": {
        "id": "Cb3sy4-A7iMG"
      }
    },
    {
      "cell_type": "code",
      "source": [
        "dataset = tensorflow.keras.datasets.mnist        # tf.keras.datasets from the keras API' Loads the MNIST dataset\n",
        "(training_images, labels_train), (test_images, labels_test) = dataset = dataset = tensorflow.keras.datasets.mnist.load_data()"
      ],
      "metadata": {
        "id": "nDieQGuencUV",
        "colab": {
          "base_uri": "https://localhost:8080/"
        },
        "outputId": "8e4ce3e8-a6e7-4848-942b-2dc004f1f007"
      },
      "execution_count": 2,
      "outputs": [
        {
          "output_type": "stream",
          "name": "stdout",
          "text": [
            "Downloading data from https://storage.googleapis.com/tensorflow/tf-keras-datasets/mnist.npz\n",
            "11493376/11490434 [==============================] - 0s 0us/step\n",
            "11501568/11490434 [==============================] - 0s 0us/step\n"
          ]
        }
      ]
    },
    {
      "cell_type": "markdown",
      "source": [
        "The following code will show you an image in the dataset. Feel free to change the index and re-run the cell multiple times to see other images."
      ],
      "metadata": {
        "id": "6CqiwsAtLSAb"
      }
    },
    {
      "cell_type": "code",
      "source": [
        "# Example of a picture\n",
        "\n",
        "index = 7        #feel free to change the value of index to explore the training set, keep in mind that you have 60000 images, so: 0 <= index <= 59999\n",
        "assert (0 <= index <= 59999)\n",
        "plt.imshow(training_images[index])\n",
        "print (\"This image represents a : \" + str(labels_train[index]))"
      ],
      "metadata": {
        "id": "7gdyY7ewLbTy",
        "colab": {
          "base_uri": "https://localhost:8080/",
          "height": 282
        },
        "outputId": "aa8de2fc-3977-43ac-f8d7-518626c666d4"
      },
      "execution_count": 3,
      "outputs": [
        {
          "output_type": "stream",
          "name": "stdout",
          "text": [
            "This image represents a : 3\n"
          ]
        },
        {
          "output_type": "display_data",
          "data": {
            "image/png": "[encoded data removed]",
            "text/plain": [
              "<Figure size 432x288 with 1 Axes>"
            ]
          },
          "metadata": {
            "needs_background": "light"
          }
        }
      ]
    },
    {
      "cell_type": "code",
      "source": [
        "# Explore your dataset \n",
        "\n",
        "print(\"Number of training examples: \" + str(training_images.shape[0]))\n",
        "print(\"Each image is of size: (\" + str(test_images.shape[1]) + \", \" + str(test_images.shape[1])+\")\")"
      ],
      "metadata": {
        "id": "rq98o85QoojA",
        "colab": {
          "base_uri": "https://localhost:8080/"
        },
        "outputId": "2d0311ab-1791-4d39-e9ff-0289380db28c"
      },
      "execution_count": 4,
      "outputs": [
        {
          "output_type": "stream",
          "name": "stdout",
          "text": [
            "Number of training examples: 60000\n",
            "Each image is of size: (28, 28)\n"
          ]
        }
      ]
    },
    {
      "cell_type": "markdown",
      "source": [
        "**3 - Preprocessing the dataset**\n",
        "\n",
        "Before feeding the dataset to the network, you have to standardize the images The code is given in the cell below."
      ],
      "metadata": {
        "id": "lTF83AzKNuKR"
      }
    },
    {
      "cell_type": "code",
      "source": [
        "\"\"\"\n",
        "Standardize data to have feature values between 0 and 1.\n",
        "Divide each value of the training images (resp. test images) by 256\n",
        "\"\"\"\n",
        "\n",
        "## Your code goes here (~2 lines of code)\n",
        "training_images  = training_images / 255.0\n",
        "test_images = test_images / 255.0\n",
        "##"
      ],
      "metadata": {
        "id": "a3g36v7avlTi"
      },
      "execution_count": 5,
      "outputs": []
    },
    {
      "cell_type": "markdown",
      "source": [
        "**3 - Architecture of your model**\n",
        "\n",
        "Time to use keras to build a deep neural network.\n",
        "\n",
        "You will start by creating a **Sequential** model.\n"
      ],
      "metadata": {
        "id": "MA-98i6rWyO0"
      }
    },
    {
      "cell_type": "code",
      "source": [
        "#Create a Suequential model\n",
        "\n",
        "#Your code goes here (~1 line of code)\n",
        "model = Sequential()\n",
        "#"
      ],
      "metadata": {
        "id": "g233RCGXvsn8"
      },
      "execution_count": 6,
      "outputs": []
    },
    {
      "cell_type": "markdown",
      "source": [
        "Now that you created the model, you will have to build the layers.\n",
        "\n",
        "\n",
        "*   **1** Flatter layer as the input layer, with an input_shape of **(28,28)**.\n",
        "*   **1** Dense layer with 128 neurons and the 'ReLU' activation function.\n",
        "*   **1** Dense layer with 10 neurons and the 'softmax' activation layer.\n",
        "\n",
        "Whene you're done with the layers, just add them to your model.\n",
        "\n",
        "Note : use the '**.add( )**' function of your model to add a layer.  \n",
        "\n",
        "\n",
        "\n"
      ],
      "metadata": {
        "id": "nC1o-LSsXzCE"
      }
    },
    {
      "cell_type": "code",
      "source": [
        "#Your code goes here (~3 lines of code)\n",
        "layer1 = Flatten(input_shape=(28,28))\n",
        "layer2 = Dense(128, activation='relu')\n",
        "layer3 = Dense(10, activation='softmax')\n",
        "#\n",
        "\"\"\"\n",
        "  Add the 3 layers you have created to the model\n",
        "\"\"\"\n",
        "#Your code goes here (~3 lines of code)\n",
        "model.add(layer1)\n",
        "model.add(layer2)\n",
        "model.add(layer3)\n",
        "#"
      ],
      "metadata": {
        "id": "qcJ6fPLYv6GZ"
      },
      "execution_count": 7,
      "outputs": []
    },
    {
      "cell_type": "markdown",
      "source": [
        "**4 - Compiling your model**\n",
        "\n",
        "Once your model is built, your can config it with a **loss function**, **metrics** and an **optimizer** with the **model.compile()** function.\n",
        "\n",
        "\n",
        "*   Use the 'adam' optimizer.\n",
        "*   Set the loss to 'sparse_categorical_crossentropy'\n",
        "*   Set the metrics to 'accuracy'\n",
        "\n"
      ],
      "metadata": {
        "id": "O42C2bI2cPDT"
      }
    },
    {
      "cell_type": "code",
      "source": [
        "#Your code goes here (~5 lines of code)\n",
        "model.compile(\n",
        "    optimizer='adam',\n",
        "    loss='sparse_categorical_crossentropy',\n",
        "    metrics=['accuracy']\n",
        ")\n",
        "#"
      ],
      "metadata": {
        "id": "KcKUGPYpx0sW"
      },
      "execution_count": 8,
      "outputs": []
    },
    {
      "cell_type": "markdown",
      "source": [
        "**5 - Training your model**\n",
        "\n",
        "Complete and Run the cell below to train your model on the 60000 training images, to do so, use the '**.fit( )**' function of your model, pass the training_images, the training labels, and don't forget to set the epochs parameter.\n",
        "\n",
        "Note : the execution of the cell below may take few secondes, during this time, you can see the evolution of the loss and accuracy of your model."
      ],
      "metadata": {
        "id": "EtbsD9CgeOB0"
      }
    },
    {
      "cell_type": "code",
      "source": [
        "#Your code goes here (~1 line of code)\n",
        "model.fit(training_images, labels_train, epochs=10)\n",
        "#"
      ],
      "metadata": {
        "id": "FG4FpWT7yAhI",
        "colab": {
          "base_uri": "https://localhost:8080/"
        },
        "outputId": "ec52bed2-cf3a-40d6-f26d-d585acdf212c"
      },
      "execution_count": 9,
      "outputs": [
        {
          "output_type": "stream",
          "name": "stdout",
          "text": [
            "Epoch 1/10\n",
            "1875/1875 [==============================] - 5s 2ms/step - loss: 0.2638 - accuracy: 0.9244\n",
            "Epoch 2/10\n",
            "1875/1875 [==============================] - 4s 2ms/step - loss: 0.1194 - accuracy: 0.9643\n",
            "Epoch 3/10\n",
            "1875/1875 [==============================] - 5s 2ms/step - loss: 0.0801 - accuracy: 0.9763\n",
            "Epoch 4/10\n",
            "1875/1875 [==============================] - 5s 3ms/step - loss: 0.0593 - accuracy: 0.9822\n",
            "Epoch 5/10\n",
            "1875/1875 [==============================] - 5s 3ms/step - loss: 0.0460 - accuracy: 0.9857\n",
            "Epoch 6/10\n",
            "1875/1875 [==============================] - 5s 2ms/step - loss: 0.0367 - accuracy: 0.9887\n",
            "Epoch 7/10\n",
            "1875/1875 [==============================] - 5s 3ms/step - loss: 0.0297 - accuracy: 0.9906\n",
            "Epoch 8/10\n",
            "1875/1875 [==============================] - 5s 2ms/step - loss: 0.0227 - accuracy: 0.9931\n",
            "Epoch 9/10\n",
            "1875/1875 [==============================] - 4s 2ms/step - loss: 0.0187 - accuracy: 0.9944\n",
            "Epoch 10/10\n",
            "1875/1875 [==============================] - 4s 2ms/step - loss: 0.0159 - accuracy: 0.9951\n"
          ]
        },
        {
          "output_type": "execute_result",
          "data": {
            "text/plain": [
              "<keras.callbacks.History at 0x7f83eca37f10>"
            ]
          },
          "metadata": {},
          "execution_count": 9
        }
      ]
    },
    {
      "cell_type": "markdown",
      "source": [
        "**5 - Test your Neural Network Model**\n",
        "\n",
        "Congratulations !!\n",
        "\n",
        "Now that your deep Neural Network model is built and trained on recognizing digits from 0 to 9, it's time to test it on new data, but first let's evaluate it on the 10000 images from the test set we imported."
      ],
      "metadata": {
        "id": "R618C3spm4_2"
      }
    },
    {
      "cell_type": "markdown",
      "source": [
        "Let's explore the test dataset real quick."
      ],
      "metadata": {
        "id": "pLTUV0ZBrjL_"
      }
    },
    {
      "cell_type": "code",
      "source": [
        "print(\"Number of test examples: \" + str(test_images.shape[0]))\n",
        "print(\"Each image is of size: (\" + str(test_images.shape[1]) + \", \" + str(test_images.shape[1])+\")\")"
      ],
      "metadata": {
        "id": "snEmyxUjr3Sj"
      },
      "execution_count": null,
      "outputs": []
    },
    {
      "cell_type": "markdown",
      "source": [
        "Use the '**.evaluate( )**' function from the model and pass your test images and test labels as parameters."
      ],
      "metadata": {
        "id": "yQJegBeysk80"
      }
    },
    {
      "cell_type": "code",
      "source": [
        "#Your code goes here(~1 line of code)\n",
        "print(model.evaluate(test_images, labels_test))\n",
        "#"
      ],
      "metadata": {
        "id": "zdf_ePrAyUwJ"
      },
      "execution_count": null,
      "outputs": []
    },
    {
      "cell_type": "markdown",
      "source": [
        "Your can see the loss and accuracy of your model !!!!"
      ],
      "metadata": {
        "id": "bpMsQqUBrTa4"
      }
    },
    {
      "cell_type": "code",
      "source": [
        "classes = np.argmax(prediction, axis = 1)\n",
        "print(len(classes))"
      ],
      "metadata": {
        "colab": {
          "base_uri": "https://localhost:8080/"
        },
        "id": "ftQGfnoY9TX6",
        "outputId": "743f3241-e100-4c36-f582-793c96cb779e"
      },
      "execution_count": null,
      "outputs": [
        {
          "output_type": "stream",
          "name": "stdout",
          "text": [
            "10000\n"
          ]
        }
      ]
    }
  ]
}